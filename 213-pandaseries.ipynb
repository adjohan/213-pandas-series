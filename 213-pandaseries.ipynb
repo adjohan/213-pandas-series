{
 "cells": [
  {
   "cell_type": "code",
   "execution_count": 1,
   "id": "7fe827e7",
   "metadata": {},
   "outputs": [
    {
     "name": "stdout",
     "output_type": "stream",
     "text": [
      "0      prevention\n",
      "1      mitigation\n",
      "2    preparedness\n",
      "3        response\n",
      "4        recovery\n",
      "dtype: object\n"
     ]
    }
   ],
   "source": [
    "#import pandas library\n",
    "import pandas as pd\n",
    "\n",
    "#create emergency protocol list\n",
    "eprotocol = ['prevention', 'mitigation', 'preparedness', 'response', 'recovery']\n",
    "\n",
    "#create series from a list\n",
    "emergency_protocol = pd.Series(eprotocol)\n",
    "\n",
    "#print the series\n",
    "print(emergency_protocol)"
   ]
  },
  {
   "cell_type": "code",
   "execution_count": 6,
   "id": "d013e94e",
   "metadata": {},
   "outputs": [
    {
     "name": "stdout",
     "output_type": "stream",
     "text": [
      "1        check carotid pulse (neck)\n",
      "2                   breathing(nose)\n",
      "3    obstuctions(nose, ears, mouth)\n",
      "4                pupils(responsive)\n",
      "5                         conscious\n",
      "6                   contact details\n",
      "7                         allergies\n",
      "dtype: object\n"
     ]
    }
   ],
   "source": [
    "#create emergency checklist list\n",
    "echecklist = ['check carotid pulse (neck)', 'breathing(nose)', 'obstuctions(nose, ears, mouth)', 'pupils(responsive)'\n",
    "                      , 'conscious', 'contact details', 'allergies']\n",
    "\n",
    "#create series from a list\n",
    "emergency_checklist = pd.Series(echecklist,\n",
    "                               index = ['1', '2', '3', '4', '5', '6', '7'])\n",
    "\n",
    "#print the series\n",
    "print(emergency_checklist)"
   ]
  },
  {
   "cell_type": "code",
   "execution_count": 3,
   "id": "84920a1f",
   "metadata": {},
   "outputs": [
    {
     "name": "stdout",
     "output_type": "stream",
     "text": [
      "123               Law Enforcement\n",
      "224      Fire and Rescue Services\n",
      "101    Emergency Medical Services\n",
      "999          Emergency Management\n",
      "900                  Public Works\n",
      "dtype: object\n"
     ]
    }
   ],
   "source": [
    "#create dictionary of emergency contact\n",
    "dict_1 = {'123':'Law Enforcement',\n",
    "         '224':'Fire and Rescue Services',\n",
    "         '101': 'Emergency Medical Services',\n",
    "         '999': 'Emergency Management',\n",
    "         '900': 'Public Works'}\n",
    "\n",
    "# name and create the series\n",
    "emergency_contact = pd.Series(dict_1)\n",
    "\n",
    "#print the series\n",
    "print(emergency_contact)"
   ]
  },
  {
   "cell_type": "code",
   "execution_count": null,
   "id": "b903a46b",
   "metadata": {},
   "outputs": [],
   "source": []
  }
 ],
 "metadata": {
  "kernelspec": {
   "display_name": "Python 3 (ipykernel)",
   "language": "python",
   "name": "python3"
  },
  "language_info": {
   "codemirror_mode": {
    "name": "ipython",
    "version": 3
   },
   "file_extension": ".py",
   "mimetype": "text/x-python",
   "name": "python",
   "nbconvert_exporter": "python",
   "pygments_lexer": "ipython3",
   "version": "3.9.12"
  }
 },
 "nbformat": 4,
 "nbformat_minor": 5
}
